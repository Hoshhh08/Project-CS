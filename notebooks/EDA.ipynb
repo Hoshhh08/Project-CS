{
 "cells": [
  {
   "cell_type": "markdown",
   "metadata": {},
   "source": [
    "# Install dependencies"
   ]
  },
  {
   "cell_type": "code",
   "execution_count": null,
   "metadata": {},
   "outputs": [],
   "source": [
    "pip install openpyxl\n"
   ]
  },
  {
   "cell_type": "markdown",
   "metadata": {},
   "source": [
    "# Data cleaning and handling missing values"
   ]
  },
  {
   "cell_type": "code",
   "execution_count": null,
   "metadata": {},
   "outputs": [],
   "source": [
    "import pandas as pd\n",
    "import numpy as np\n",
    "import matplotlib.pyplot as plt\n",
    "import seaborn as sns\n",
    "from scipy import stats\n",
    "from datetime import datetime\n",
    "\n",
    "# 2. Load the dataset from the 'data' folder\n",
    "file_path = \"../data/marketing_campaign1.xlsx\"  # Adjust path if needed\n",
    "df = pd.read_excel(file_path)"
   ]
  },
  {
   "cell_type": "code",
   "execution_count": null,
   "metadata": {},
   "outputs": [],
   "source": [
    "# 3. Quick EDA - Display the first few rows\n",
    "print(\"Dataset Preview:\")\n",
    "display(df.head())\n"
   ]
  },
  {
   "cell_type": "code",
   "execution_count": null,
   "metadata": {},
   "outputs": [],
   "source": [
    "# 4. Check for missing values\n",
    "missing_values = df.isnull().sum()\n",
    "missing_percent = (df.isnull().sum() / len(df)) * 100\n",
    "\n",
    "# Display missing values information\n",
    "missing_data = pd.DataFrame({'Missing Values': missing_values, 'Percentage': missing_percent})\n",
    "print(\"\\nMissing Values in Each Column:\")\n",
    "display(missing_data[missing_data['Missing Values'] > 0])\n"
   ]
  },
  {
   "cell_type": "code",
   "execution_count": null,
   "metadata": {},
   "outputs": [],
   "source": [
    "# 5. Handle Missing Values\n",
    "# Drop columns with more than 50% missing values\n",
    "threshold = 50  # Set threshold for missing percentage\n",
    "cols_to_drop = missing_data[missing_data['Percentage'] > threshold].index\n",
    "df.drop(columns=cols_to_drop, inplace=True)\n",
    "print(f\"\\nDropped columns with more than {threshold}% missing values: {list(cols_to_drop)}\")\n",
    "\n",
    "# Fill missing numerical values with median\n",
    "num_cols = df.select_dtypes(include=['number']).columns\n",
    "df[num_cols] = df[num_cols].fillna(df[num_cols].median())\n",
    "\n",
    "# Fill missing categorical values with mode\n",
    "cat_cols = df.select_dtypes(include=['object']).columns\n",
    "df[cat_cols] = df[cat_cols].fillna(df[cat_cols].mode().iloc[0])\n",
    "\n",
    "print(\"\\nMissing values handled successfully!\")"
   ]
  },
  {
   "cell_type": "code",
   "execution_count": null,
   "metadata": {},
   "outputs": [],
   "source": [
    "\n",
    "\n",
    "# 6. Summary Statistics after handling missing values\n",
    "print(\"\\nDataset Summary:\")\n",
    "display(df.describe(include='all'))"
   ]
  },
  {
   "cell_type": "code",
   "execution_count": null,
   "metadata": {},
   "outputs": [],
   "source": [
    "\n",
    "# Check missing values\n",
    "print(df.isnull().sum())\n"
   ]
  },
  {
   "cell_type": "markdown",
   "metadata": {},
   "source": [
    "# Outlier detection and removing using IQR (Interquartile Range)"
   ]
  },
  {
   "cell_type": "markdown",
   "metadata": {},
   "source": [
    "Because the data is skewed, we will use the IQR method to detect and remove outliers instead of z-score"
   ]
  },
  {
   "cell_type": "code",
   "execution_count": null,
   "metadata": {},
   "outputs": [],
   "source": [
    "import matplotlib.pyplot as plt\n",
    "# Detect outliers using the Z-score method\n",
    "num_cols = df.select_dtypes(include=['int64', 'float64']).columns\n",
    "\n",
    "# Boxplot before handling outliers\n",
    "plt.figure(figsize=(15, 10))\n",
    "df[num_cols].boxplot(rot=90)\n",
    "plt.title(\"Boxplot for Outlier Detection\")\n",
    "plt.show()\n",
    "\n",
    "# Handling outliers using IQR method (Replacing with upper/lower bounds)\n",
    "for col in num_cols:\n",
    "    q1 = df[col].quantile(0.25)\n",
    "    q3 = df[col].quantile(0.75)\n",
    "    iqr = q3 - q1\n",
    "    lower_bound = q1 - 1.5 * iqr\n",
    "    upper_bound = q3 + 1.5 * iqr\n",
    "    df[col] = np.where(df[col] < lower_bound, lower_bound, df[col])\n",
    "    df[col] = np.where(df[col] > upper_bound, upper_bound, df[col])\n",
    "\n",
    "# Boxplot after handling outliers\n",
    "plt.figure(figsize=(15, 10))\n",
    "df[num_cols].boxplot(rot=90)\n",
    "plt.title(\"Boxplot After Outlier Handling\")\n",
    "plt.show()\n"
   ]
  },
  {
   "cell_type": "markdown",
   "metadata": {},
   "source": [
    "# Feature transformation"
   ]
  },
  {
   "cell_type": "markdown",
   "metadata": {},
   "source": [
    "### Apply  one hot encoding "
   ]
  },
  {
   "cell_type": "code",
   "execution_count": null,
   "metadata": {},
   "outputs": [],
   "source": [
    "\n",
    "# Encoding categorical variables\n",
    "df = pd.get_dummies(df, columns=['Education', 'Marital_Status'], drop_first=True)\n"
   ]
  },
  {
   "cell_type": "markdown",
   "metadata": {},
   "source": [
    "### Check the final data set"
   ]
  },
  {
   "cell_type": "code",
   "execution_count": null,
   "metadata": {},
   "outputs": [],
   "source": [
    "# Assuming df_final is the final dataset after processing\n",
    "\n",
    "# Check for categorical columns in the final dataset\n",
    "categorical_columns_final = df.select_dtypes(include=['object'])\n",
    "\n",
    "# Print the categorical columns (if any)\n",
    "print(\"Categorical columns in the final dataset:\")\n",
    "print(categorical_columns_final)\n"
   ]
  },
  {
   "cell_type": "markdown",
   "metadata": {},
   "source": [
    "### After encoding you can see catergorical convert into true or false which means 0 or 1 "
   ]
  },
  {
   "cell_type": "markdown",
   "metadata": {},
   "source": [
    "## Feature engineering"
   ]
  },
  {
   "cell_type": "markdown",
   "metadata": {},
   "source": [
    "\n",
    "# Creating new features"
   ]
  },
  {
   "cell_type": "code",
   "execution_count": null,
   "metadata": {},
   "outputs": [],
   "source": [
    "\n",
    "# Creating new features\n",
    "df['Age'] = datetime.now().year - df['Year_Birth']  # Age calculation\n",
    "df['Tenure'] = (datetime.now() - df['Dt_Customer']).dt.days  # Tenure in days(How long the customer has been in the company)\n",
    "df['Total_Spending'] = (df['MntWines'] + df['MntFruits'] + df['MntMeatProducts'] +\n",
    "                        df['MntFishProducts'] + df['MntSweetProducts'] + df['MntGoldProds'])  # Total spending\n"
   ]
  },
  {
   "cell_type": "markdown",
   "metadata": {},
   "source": [
    "## Data Type Conversion (Ensuring Correct Types)"
   ]
  },
  {
   "cell_type": "code",
   "execution_count": null,
   "metadata": {},
   "outputs": [],
   "source": [
    "\n",
    "# Ensure 'Dt_Customer' is in datetime format\n",
    "df['Dt_Customer'] = pd.to_datetime(df['Dt_Customer'])\n",
    "\n",
    "# Convert numerical columns to appropriate types\n",
    "numeric_cols = ['Year_Birth', 'Income', 'Kidhome', 'Teenhome', 'Recency', \n",
    "                'MntWines', 'MntFruits', 'MntMeatProducts', 'MntFishProducts',\n",
    "                'MntSweetProducts', 'MntGoldProds', 'NumDealsPurchases', \n",
    "                'NumWebPurchases', 'NumCatalogPurchases', 'NumStorePurchases', \n",
    "                'NumWebVisitsMonth', 'AcceptedCmp1', 'AcceptedCmp2', 'AcceptedCmp3', \n",
    "                'AcceptedCmp4', 'AcceptedCmp5', 'Response', 'Complain', \n",
    "                'Z_CostContact', 'Z_Revenue', 'Age', 'Tenure', 'Total_Spending']\n",
    "\n",
    "for col in numeric_cols:\n",
    "    df[col] = pd.to_numeric(df[col], errors='coerce')  # Convert to integer/float\n",
    "\n",
    "# Verify final data types\n",
    "df.info()\n"
   ]
  },
  {
   "cell_type": "code",
   "execution_count": null,
   "metadata": {},
   "outputs": [],
   "source": []
  }
 ],
 "metadata": {
  "kernelspec": {
   "display_name": "Python 3",
   "language": "python",
   "name": "python3"
  },
  "language_info": {
   "codemirror_mode": {
    "name": "ipython",
    "version": 3
   },
   "file_extension": ".py",
   "mimetype": "text/x-python",
   "name": "python",
   "nbconvert_exporter": "python",
   "pygments_lexer": "ipython3",
   "version": "3.11.1"
  }
 },
 "nbformat": 4,
 "nbformat_minor": 2
}
